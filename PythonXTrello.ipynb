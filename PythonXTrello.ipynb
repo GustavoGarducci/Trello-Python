{
 "cells": [
  {
   "cell_type": "code",
   "execution_count": null,
   "metadata": {},
   "outputs": [],
   "source": [
    "import json\n",
    "from time import sleep\n",
    "from selenium import webdriver\n",
    "from selenium.webdriver.common.by import By\n",
    "from webdriver_manager.chrome import ChromeDriverManager\n",
    "from selenium.webdriver.chrome.service import Service\n",
    "from selenium.webdriver.support.ui import Select\n",
    "import pandas as pd\n",
    "import tkinter as tk\n",
    "from tkinter import messagebox"
   ]
  },
  {
   "cell_type": "code",
   "execution_count": null,
   "metadata": {},
   "outputs": [],
   "source": [
    "with open(\"config.json\", \"r\") as file:\n",
    "    config = json.load(file)"
   ]
  },
  {
   "cell_type": "code",
   "execution_count": null,
   "metadata": {},
   "outputs": [],
   "source": [
    "servico = Service(ChromeDriverManager().install())\n",
    "\n",
    "# define o navegador\n",
    "navegador = webdriver.Chrome()\n",
    "\n",
    "# maximiza o chome\n",
    "navegador.maximize_window()\n",
    "navegador.implicitly_wait = 5\n",
    "\n",
    "# acessa o Autodoc\n",
    "navegador.get(\"https://plataforma.autodoc.com.br/suite\")"
   ]
  },
  {
   "cell_type": "code",
   "execution_count": 73,
   "metadata": {},
   "outputs": [],
   "source": [
    "def pagina_login():\n",
    "\n",
    "    navegador.get(\"https://plataforma.autodoc.com.br/login\")\n",
    "    sleep(2.5)\n",
    "\n",
    "    # clica no local do email e preenche o Email \n",
    "    navegador.find_element(By.ID, \"email_input\").send_keys(config[\"email\"])\n",
    "    sleep(1.5)\n",
    "\n",
    "    #clica no botão para acessar o proximo passo que é a senha \n",
    "    navegador.find_element(By.CLASS_NAME, \"login_continue_btn\").click()\n",
    "    # navegador.find_element('xpath','//*[@id=\"single-spa-application:mf-login\"]/div[2]/div[1]/div/form/button').click()\n",
    "    sleep(2)\n",
    "\n",
    "    #clica no botão para preencher a senha  \n",
    "    navegador.find_element(By.ID, \"password_input\").send_keys(config[\"senha\"])\n",
    "    \n",
    "    #clica no botão para entrar no autodoc\n",
    "    navegador.find_element(By.XPATH,'//*[@id=\"single-spa-application:mf-login\"]/div[2]/div[1]/div/form/button').click()\n",
    "\n",
    "def pagina_empresa(id: int, nome: str):\n",
    "\n",
    "    navegador.get(\"https://plataforma.autodoc.com.br/suite\")\n",
    "    sleep(1.5)\n",
    "    navegador.find_element(By.XPATH, '//*[@id=\"single-spa-application:mf-suite\"]/main/section[1]/div[2]/div[1]').click()\n",
    "    \n",
    "    element = Select(navegador.find_element(By.ID, \"idEscolhaCliente\"))\n",
    "\n",
    "    element.select_by_visible_text(nome)\n",
    "    # element.select_by_value(str(id))\n",
    "\n",
    "    navegador.find_element(By.ID, \"btnAcessar\").click()\n",
    "\n",
    "    sleep(10)\n",
    "\n",
    "    logout()\n",
    "\n",
    "def logout():\n",
    "\n",
    "    profile = navegador.find_element(By.CLASS_NAME, 'user-profile')\n",
    "    profile.click()\n",
    "\n",
    "    sleep(1)\n",
    "    \n",
    "    sair = navegador.find_element(By.XPATH, '//*[@id=\"pcoded\"]/div[2]/nav/div/div[2]/ul[2]/li[3]/ul/li[5]/a')\n",
    "    sair.click() "
   ]
  },
  {
   "cell_type": "code",
   "execution_count": null,
   "metadata": {},
   "outputs": [],
   "source": [
    "# O roboot Faz o login se passando pelo usuario\n",
    "pagina_login()"
   ]
  },
  {
   "cell_type": "code",
   "execution_count": 74,
   "metadata": {},
   "outputs": [],
   "source": [
    "# Roboot inicia a execução em loop de acordo com as tarefas que foram configuradas no arquivo [config.json]\n",
    "for tarefa in config[\"tarefas\"]:\n",
    "\n",
    "    sleep(1.5)\n",
    "\n",
    "    if tarefa[\"ativo\"] == True:\n",
    "\n",
    "        pagina_empresa(tarefa[\"id\"], tarefa[\"nome\"])\n",
    "        sleep(3)"
   ]
  },
  {
   "cell_type": "code",
   "execution_count": null,
   "metadata": {},
   "outputs": [],
   "source": [
    "navegador.close()\n",
    "navegador.quit()"
   ]
  },
  {
   "cell_type": "code",
   "execution_count": null,
   "metadata": {},
   "outputs": [],
   "source": []
  }
 ],
 "metadata": {
  "kernelspec": {
   "display_name": "Python 3",
   "language": "python",
   "name": "python3"
  },
  "language_info": {
   "codemirror_mode": {
    "name": "ipython",
    "version": 3
   },
   "file_extension": ".py",
   "mimetype": "text/x-python",
   "name": "python",
   "nbconvert_exporter": "python",
   "pygments_lexer": "ipython3",
   "version": "3.11.3"
  },
  "orig_nbformat": 4,
  "vscode": {
   "interpreter": {
    "hash": "9f8688d2bc69c748babb560adc9158621fb8aef49546882c3e4c6326402dd0cc"
   }
  }
 },
 "nbformat": 4,
 "nbformat_minor": 2
}
